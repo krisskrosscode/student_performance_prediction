{
 "cells": [
  {
   "cell_type": "markdown",
   "id": "b3562c95-3ac7-4726-ad0c-d50090452663",
   "metadata": {},
   "source": [
    "# Data Analysis on student performance dataset\n",
    "\n",
    "### Problem Statement\n",
    "     Predict student performance in secondary education (high school)\n",
    " \n",
    "### Dataset Information\n",
    "This data approach student achievement in secondary education of two Portuguese schools. <br>The data attributes include student grades, demographic, social and other school related features.\n",
    "\n",
    "\n",
    "### Attributes Information\n",
    "\n",
    "1 school - student's school (binary: 'GP' - Gabriel Pereira or 'MS' - Mousinho da Silveira)<br>\n",
    "\n",
    "2 sex - student's sex (binary: 'F' - female or 'M' - male)<br>\n",
    "\n",
    "3 age - student's age (numeric: from 15 to 22)<br>\n",
    "\n",
    "4 address - student's home address type (binary: 'U' - urban or 'R' - rural)<br>\n",
    "\n",
    "5 famsize - family size (binary: 'LE3' - less or equal to 3 or 'GT3' - greater than 3)<br>\n",
    "\n",
    "6 Pstatus - parent's cohabitation status (binary: 'T' - living together or 'A' - apart)<br>\n",
    "\n",
    "7 Medu - mother's education (numeric: 0 - none, 1 - primary education (4th grade), 2 - 5th to 9th grade, 3 - secondary education or 4 - higher education)<br>\n",
    "\n",
    "8 Fedu - father's education (numeric: 0 - none, 1 - primary education (4th grade), 2 - 5th to 9th grade, 3 - secondary education or 4 - higher education)<br>\n",
    "\n",
    "9 Mjob - mother's job (nominal: 'teacher', 'health' care related, civil 'services' (e.g. administrative or police), 'at_home' or 'other')<br>\n",
    "\n",
    "10 Fjob - father's job (nominal: 'teacher', 'health' care related, civil 'services' (e.g. administrative or police), 'at_home' or 'other')<br>\n",
    "\n",
    "11 reason - reason to choose this school (nominal: close to 'home', school 'reputation', 'course' preference or 'other')<br>\n",
    "\n",
    "12 guardian - student's guardian (nominal: 'mother', 'father' or 'other')<br>\n",
    "\n",
    "13 traveltime - home to school travel time (numeric: 1 - <15 min., 2 - 15 to 30 min., 3 - 30 min. to 1 hour, or 4 - >1 hour)<br>\n",
    "\n",
    "14 studytime - weekly study time (numeric: 1 - <2 hours, 2 - 2 to 5 hours, 3 - 5 to 10 hours, or 4 - >10 hours)<br>\n",
    "\n",
    "15 failures - number of past class failures (numeric: n if 1<=n<3, else 4)<br>\n",
    "\n",
    "16 schoolsup - extra educational support (binary: yes or no)<br>\n",
    "\n",
    "17 famsup - family educational support (binary: yes or no)<br>\n",
    "\n",
    "18 paid - extra paid classes within the course subject (Math or Portuguese) (binary: yes or no)<br>\n",
    "\n",
    "19 activities - extra-curricular activities (binary: yes or no)<br>\n",
    "\n",
    "20 nursery - attended nursery school (binary: yes or no)<br>\n",
    "\n",
    "21 higher - wants to take higher education (binary: yes or no)<br>\n",
    "\n",
    "22 internet - Internet access at home (binary: yes or no)<br>\n",
    "\n",
    "23 romantic - with a romantic relationship (binary: yes or no)<br>\n",
    "\n",
    "24 famrel - quality of family relationships (numeric: from 1 - very bad to 5 - excellent)<br>\n",
    "\n",
    "25 freetime - free time after school (numeric: from 1 - very low to 5 - very high)<br>\n",
    "\n",
    "26 goout - going out with friends (numeric: from 1 - very low to 5 - very high)<br>\n",
    "\n",
    "27 Dalc - workday alcohol consumption (numeric: from 1 - very low to 5 - very high)<br>\n",
    "\n",
    "28 Walc - weekend alcohol consumption (numeric: from 1 - very low to 5 - very high)<br>\n",
    "\n",
    "29 health - current health status (numeric: from 1 - very bad to 5 - very good)<br>\n",
    "\n",
    "30 absences - number of school absences (numeric: from 0 to 93)<br>\n",
    "\n",
    " **These grades are related with the course subject, Math or Portuguese:**\n",
    " \n",
    "31 G1 - first period grade (numeric: from 0 to 20)<br>\n",
    "\n",
    "31 G2 - second period grade (numeric: from 0 to 20)<br>\n",
    "\n",
    "32 G3 - final grade (numeric: from 0 to 20, output target)<br>\n",
    "\n",
    "\n",
    "    \n",
    "    \n",
    "**Source** : https://archive.ics.uci.edu/ml/datasets/student+performance\n",
    "    "
   ]
  },
  {
   "cell_type": "markdown",
   "id": "ba0e09a4-bc55-4949-8ea8-d72efe029200",
   "metadata": {},
   "source": [
    "**Libraries used :**\n",
    "\n",
    "1. For Data Analysis : pandas, numpy, matplotlib, seaborn<br>\n",
    "\n",
    "2. For Predictive Model : sklearn, statsmodels<br>"
   ]
  },
  {
   "cell_type": "markdown",
   "id": "88cc4c07-a3e0-4675-9056-fd6d8ad2d476",
   "metadata": {
    "tags": []
   },
   "source": [
    "# Loading dataset into pandas dataframe"
   ]
  },
  {
   "cell_type": "code",
   "execution_count": 1,
   "id": "9fe97b54-ea09-4ba9-9612-2b6b461ee117",
   "metadata": {},
   "outputs": [],
   "source": [
    "import pandas as pd\n",
    "import numpy as np\n",
    "import matplotlib.pyplot as plt\n",
    "import seaborn as sns\n",
    "%matplotlib inline\n",
    "from matplotlib.pyplot import figure\n",
    "import warnings\n",
    "warnings.filterwarnings('ignore')"
   ]
  },
  {
   "cell_type": "code",
   "execution_count": 2,
   "id": "ab54b2ac-f5ab-4103-9e21-6a6f85b0708b",
   "metadata": {},
   "outputs": [],
   "source": [
    "data  = pd.read_csv('data/stu_train.csv')"
   ]
  },
  {
   "cell_type": "code",
   "execution_count": 3,
   "id": "4dd7bd5a-a4c8-4496-9070-5ceb554f56e4",
   "metadata": {},
   "outputs": [
    {
     "data": {
      "text/html": [
       "<div>\n",
       "<style scoped>\n",
       "    .dataframe tbody tr th:only-of-type {\n",
       "        vertical-align: middle;\n",
       "    }\n",
       "\n",
       "    .dataframe tbody tr th {\n",
       "        vertical-align: top;\n",
       "    }\n",
       "\n",
       "    .dataframe thead th {\n",
       "        text-align: right;\n",
       "    }\n",
       "</style>\n",
       "<table border=\"1\" class=\"dataframe\">\n",
       "  <thead>\n",
       "    <tr style=\"text-align: right;\">\n",
       "      <th></th>\n",
       "      <th>Id</th>\n",
       "      <th>school</th>\n",
       "      <th>sex</th>\n",
       "      <th>age</th>\n",
       "      <th>address</th>\n",
       "      <th>famsize</th>\n",
       "      <th>Pstatus</th>\n",
       "      <th>Medu</th>\n",
       "      <th>Fedu</th>\n",
       "      <th>Mjob</th>\n",
       "      <th>...</th>\n",
       "      <th>famrel</th>\n",
       "      <th>freetime</th>\n",
       "      <th>goout</th>\n",
       "      <th>Dalc</th>\n",
       "      <th>Walc</th>\n",
       "      <th>health</th>\n",
       "      <th>absences</th>\n",
       "      <th>G1</th>\n",
       "      <th>G2</th>\n",
       "      <th>G3</th>\n",
       "    </tr>\n",
       "  </thead>\n",
       "  <tbody>\n",
       "    <tr>\n",
       "      <th>0</th>\n",
       "      <td>1</td>\n",
       "      <td>GP</td>\n",
       "      <td>F</td>\n",
       "      <td>18</td>\n",
       "      <td>U</td>\n",
       "      <td>GT3</td>\n",
       "      <td>A</td>\n",
       "      <td>4</td>\n",
       "      <td>4</td>\n",
       "      <td>at_home</td>\n",
       "      <td>...</td>\n",
       "      <td>4</td>\n",
       "      <td>3</td>\n",
       "      <td>4</td>\n",
       "      <td>1</td>\n",
       "      <td>1</td>\n",
       "      <td>3</td>\n",
       "      <td>4</td>\n",
       "      <td>0</td>\n",
       "      <td>11</td>\n",
       "      <td>11</td>\n",
       "    </tr>\n",
       "    <tr>\n",
       "      <th>1</th>\n",
       "      <td>2</td>\n",
       "      <td>GP</td>\n",
       "      <td>F</td>\n",
       "      <td>17</td>\n",
       "      <td>U</td>\n",
       "      <td>GT3</td>\n",
       "      <td>T</td>\n",
       "      <td>1</td>\n",
       "      <td>1</td>\n",
       "      <td>at_home</td>\n",
       "      <td>...</td>\n",
       "      <td>5</td>\n",
       "      <td>3</td>\n",
       "      <td>3</td>\n",
       "      <td>1</td>\n",
       "      <td>1</td>\n",
       "      <td>3</td>\n",
       "      <td>2</td>\n",
       "      <td>9</td>\n",
       "      <td>11</td>\n",
       "      <td>11</td>\n",
       "    </tr>\n",
       "    <tr>\n",
       "      <th>2</th>\n",
       "      <td>3</td>\n",
       "      <td>GP</td>\n",
       "      <td>F</td>\n",
       "      <td>15</td>\n",
       "      <td>U</td>\n",
       "      <td>LE3</td>\n",
       "      <td>T</td>\n",
       "      <td>1</td>\n",
       "      <td>1</td>\n",
       "      <td>at_home</td>\n",
       "      <td>...</td>\n",
       "      <td>4</td>\n",
       "      <td>3</td>\n",
       "      <td>2</td>\n",
       "      <td>2</td>\n",
       "      <td>3</td>\n",
       "      <td>3</td>\n",
       "      <td>6</td>\n",
       "      <td>12</td>\n",
       "      <td>13</td>\n",
       "      <td>12</td>\n",
       "    </tr>\n",
       "    <tr>\n",
       "      <th>3</th>\n",
       "      <td>4</td>\n",
       "      <td>GP</td>\n",
       "      <td>F</td>\n",
       "      <td>15</td>\n",
       "      <td>U</td>\n",
       "      <td>GT3</td>\n",
       "      <td>T</td>\n",
       "      <td>4</td>\n",
       "      <td>2</td>\n",
       "      <td>health</td>\n",
       "      <td>...</td>\n",
       "      <td>3</td>\n",
       "      <td>2</td>\n",
       "      <td>2</td>\n",
       "      <td>1</td>\n",
       "      <td>1</td>\n",
       "      <td>5</td>\n",
       "      <td>0</td>\n",
       "      <td>14</td>\n",
       "      <td>14</td>\n",
       "      <td>14</td>\n",
       "    </tr>\n",
       "    <tr>\n",
       "      <th>4</th>\n",
       "      <td>5</td>\n",
       "      <td>GP</td>\n",
       "      <td>F</td>\n",
       "      <td>16</td>\n",
       "      <td>U</td>\n",
       "      <td>GT3</td>\n",
       "      <td>T</td>\n",
       "      <td>3</td>\n",
       "      <td>3</td>\n",
       "      <td>other</td>\n",
       "      <td>...</td>\n",
       "      <td>4</td>\n",
       "      <td>3</td>\n",
       "      <td>2</td>\n",
       "      <td>1</td>\n",
       "      <td>2</td>\n",
       "      <td>5</td>\n",
       "      <td>0</td>\n",
       "      <td>11</td>\n",
       "      <td>13</td>\n",
       "      <td>13</td>\n",
       "    </tr>\n",
       "    <tr>\n",
       "      <th>...</th>\n",
       "      <td>...</td>\n",
       "      <td>...</td>\n",
       "      <td>...</td>\n",
       "      <td>...</td>\n",
       "      <td>...</td>\n",
       "      <td>...</td>\n",
       "      <td>...</td>\n",
       "      <td>...</td>\n",
       "      <td>...</td>\n",
       "      <td>...</td>\n",
       "      <td>...</td>\n",
       "      <td>...</td>\n",
       "      <td>...</td>\n",
       "      <td>...</td>\n",
       "      <td>...</td>\n",
       "      <td>...</td>\n",
       "      <td>...</td>\n",
       "      <td>...</td>\n",
       "      <td>...</td>\n",
       "      <td>...</td>\n",
       "      <td>...</td>\n",
       "    </tr>\n",
       "    <tr>\n",
       "      <th>513</th>\n",
       "      <td>514</td>\n",
       "      <td>MS</td>\n",
       "      <td>F</td>\n",
       "      <td>16</td>\n",
       "      <td>U</td>\n",
       "      <td>GT3</td>\n",
       "      <td>T</td>\n",
       "      <td>3</td>\n",
       "      <td>1</td>\n",
       "      <td>other</td>\n",
       "      <td>...</td>\n",
       "      <td>3</td>\n",
       "      <td>1</td>\n",
       "      <td>3</td>\n",
       "      <td>1</td>\n",
       "      <td>3</td>\n",
       "      <td>1</td>\n",
       "      <td>0</td>\n",
       "      <td>8</td>\n",
       "      <td>6</td>\n",
       "      <td>8</td>\n",
       "    </tr>\n",
       "    <tr>\n",
       "      <th>514</th>\n",
       "      <td>515</td>\n",
       "      <td>MS</td>\n",
       "      <td>F</td>\n",
       "      <td>16</td>\n",
       "      <td>U</td>\n",
       "      <td>GT3</td>\n",
       "      <td>T</td>\n",
       "      <td>3</td>\n",
       "      <td>2</td>\n",
       "      <td>services</td>\n",
       "      <td>...</td>\n",
       "      <td>3</td>\n",
       "      <td>1</td>\n",
       "      <td>3</td>\n",
       "      <td>1</td>\n",
       "      <td>4</td>\n",
       "      <td>3</td>\n",
       "      <td>2</td>\n",
       "      <td>7</td>\n",
       "      <td>6</td>\n",
       "      <td>7</td>\n",
       "    </tr>\n",
       "    <tr>\n",
       "      <th>515</th>\n",
       "      <td>516</td>\n",
       "      <td>MS</td>\n",
       "      <td>F</td>\n",
       "      <td>18</td>\n",
       "      <td>U</td>\n",
       "      <td>LE3</td>\n",
       "      <td>T</td>\n",
       "      <td>1</td>\n",
       "      <td>1</td>\n",
       "      <td>other</td>\n",
       "      <td>...</td>\n",
       "      <td>2</td>\n",
       "      <td>3</td>\n",
       "      <td>5</td>\n",
       "      <td>1</td>\n",
       "      <td>4</td>\n",
       "      <td>3</td>\n",
       "      <td>8</td>\n",
       "      <td>9</td>\n",
       "      <td>8</td>\n",
       "      <td>10</td>\n",
       "    </tr>\n",
       "    <tr>\n",
       "      <th>516</th>\n",
       "      <td>517</td>\n",
       "      <td>MS</td>\n",
       "      <td>F</td>\n",
       "      <td>16</td>\n",
       "      <td>R</td>\n",
       "      <td>GT3</td>\n",
       "      <td>T</td>\n",
       "      <td>4</td>\n",
       "      <td>4</td>\n",
       "      <td>health</td>\n",
       "      <td>...</td>\n",
       "      <td>4</td>\n",
       "      <td>3</td>\n",
       "      <td>3</td>\n",
       "      <td>2</td>\n",
       "      <td>3</td>\n",
       "      <td>2</td>\n",
       "      <td>0</td>\n",
       "      <td>14</td>\n",
       "      <td>16</td>\n",
       "      <td>16</td>\n",
       "    </tr>\n",
       "    <tr>\n",
       "      <th>517</th>\n",
       "      <td>518</td>\n",
       "      <td>MS</td>\n",
       "      <td>F</td>\n",
       "      <td>16</td>\n",
       "      <td>R</td>\n",
       "      <td>LE3</td>\n",
       "      <td>T</td>\n",
       "      <td>1</td>\n",
       "      <td>2</td>\n",
       "      <td>other</td>\n",
       "      <td>...</td>\n",
       "      <td>5</td>\n",
       "      <td>4</td>\n",
       "      <td>5</td>\n",
       "      <td>1</td>\n",
       "      <td>4</td>\n",
       "      <td>2</td>\n",
       "      <td>0</td>\n",
       "      <td>14</td>\n",
       "      <td>14</td>\n",
       "      <td>15</td>\n",
       "    </tr>\n",
       "  </tbody>\n",
       "</table>\n",
       "<p>518 rows × 34 columns</p>\n",
       "</div>"
      ],
      "text/plain": [
       "      Id school sex  age address famsize Pstatus  Medu  Fedu      Mjob  ...  \\\n",
       "0      1     GP   F   18       U     GT3       A     4     4   at_home  ...   \n",
       "1      2     GP   F   17       U     GT3       T     1     1   at_home  ...   \n",
       "2      3     GP   F   15       U     LE3       T     1     1   at_home  ...   \n",
       "3      4     GP   F   15       U     GT3       T     4     2    health  ...   \n",
       "4      5     GP   F   16       U     GT3       T     3     3     other  ...   \n",
       "..   ...    ...  ..  ...     ...     ...     ...   ...   ...       ...  ...   \n",
       "513  514     MS   F   16       U     GT3       T     3     1     other  ...   \n",
       "514  515     MS   F   16       U     GT3       T     3     2  services  ...   \n",
       "515  516     MS   F   18       U     LE3       T     1     1     other  ...   \n",
       "516  517     MS   F   16       R     GT3       T     4     4    health  ...   \n",
       "517  518     MS   F   16       R     LE3       T     1     2     other  ...   \n",
       "\n",
       "    famrel freetime goout  Dalc  Walc  health absences  G1  G2  G3  \n",
       "0        4        3     4     1     1       3        4   0  11  11  \n",
       "1        5        3     3     1     1       3        2   9  11  11  \n",
       "2        4        3     2     2     3       3        6  12  13  12  \n",
       "3        3        2     2     1     1       5        0  14  14  14  \n",
       "4        4        3     2     1     2       5        0  11  13  13  \n",
       "..     ...      ...   ...   ...   ...     ...      ...  ..  ..  ..  \n",
       "513      3        1     3     1     3       1        0   8   6   8  \n",
       "514      3        1     3     1     4       3        2   7   6   7  \n",
       "515      2        3     5     1     4       3        8   9   8  10  \n",
       "516      4        3     3     2     3       2        0  14  16  16  \n",
       "517      5        4     5     1     4       2        0  14  14  15  \n",
       "\n",
       "[518 rows x 34 columns]"
      ]
     },
     "execution_count": 3,
     "metadata": {},
     "output_type": "execute_result"
    }
   ],
   "source": [
    "data"
   ]
  },
  {
   "cell_type": "markdown",
   "id": "4b36a9f7-39c0-4f1c-be8c-aa098ea25961",
   "metadata": {},
   "source": [
    "# Checking for NaN values in dataframe"
   ]
  },
  {
   "cell_type": "code",
   "execution_count": 4,
   "id": "c4a52396-dd56-4b0c-ad56-8562f193648b",
   "metadata": {
    "tags": []
   },
   "outputs": [
    {
     "data": {
      "text/plain": [
       "Id            0\n",
       "school        0\n",
       "sex           0\n",
       "age           0\n",
       "address       0\n",
       "famsize       0\n",
       "Pstatus       0\n",
       "Medu          0\n",
       "Fedu          0\n",
       "Mjob          0\n",
       "Fjob          0\n",
       "reason        0\n",
       "guardian      0\n",
       "traveltime    0\n",
       "studytime     0\n",
       "failures      0\n",
       "schoolsup     0\n",
       "famsup        0\n",
       "paid          0\n",
       "activities    0\n",
       "nursery       0\n",
       "higher        0\n",
       "internet      0\n",
       "romantic      0\n",
       "famrel        0\n",
       "freetime      0\n",
       "goout         0\n",
       "Dalc          0\n",
       "Walc          0\n",
       "health        0\n",
       "absences      0\n",
       "G1            0\n",
       "G2            0\n",
       "G3            0\n",
       "dtype: int64"
      ]
     },
     "execution_count": 4,
     "metadata": {},
     "output_type": "execute_result"
    }
   ],
   "source": [
    "data.isnull().sum()"
   ]
  },
  {
   "cell_type": "code",
   "execution_count": 5,
   "id": "0a93f032-b9eb-4c10-ba07-f5aa280edd24",
   "metadata": {},
   "outputs": [
    {
     "data": {
      "text/plain": [
       "<AxesSubplot:>"
      ]
     },
     "execution_count": 5,
     "metadata": {},
     "output_type": "execute_result"
    },
    {
     "data": {
      "image/png": "[encoded data removed]",
      "text/plain": [
       "<Figure size 432x288 with 1 Axes>"
      ]
     },
     "metadata": {
      "needs_background": "light"
     },
     "output_type": "display_data"
    }
   ],
   "source": [
    "data.isnull().sum().plot(kind='line')"
   ]
  },
  {
   "cell_type": "markdown",
   "id": "b7106b81-d45f-4d7e-8256-15732f1ba5dd",
   "metadata": {},
   "source": [
    "> ***Found No NaN values, so we can procede with our analysis***"
   ]
  },
  {
   "cell_type": "markdown",
   "id": "3fe44644-84a1-4d72-949a-9e4ec4450886",
   "metadata": {},
   "source": [
    "# Differentiating categorical and Numerical variables"
   ]
  },
  {
   "cell_type": "markdown",
   "id": "02d2a24b-5986-4ae8-bf4d-1ccabe3f30d9",
   "metadata": {},
   "source": [
    "Categorical variables :   The variables with classify the attribute into different groups <br>\n",
    "\n",
    "Numerical variables : The variables that provide a numerical value to the attribute"
   ]
  },
  {
   "cell_type": "code",
   "execution_count": 6,
   "id": "f3fc9294-e20a-420d-9245-184943f8a119",
   "metadata": {
    "tags": []
   },
   "outputs": [
    {
     "data": {
      "text/plain": [
       "(school        object\n",
       " sex           object\n",
       " address       object\n",
       " famsize       object\n",
       " Pstatus       object\n",
       " Mjob          object\n",
       " Fjob          object\n",
       " reason        object\n",
       " guardian      object\n",
       " schoolsup     object\n",
       " famsup        object\n",
       " paid          object\n",
       " activities    object\n",
       " nursery       object\n",
       " higher        object\n",
       " internet      object\n",
       " romantic      object\n",
       " dtype: object,\n",
       " Id            int64\n",
       " age           int64\n",
       " Medu          int64\n",
       " Fedu          int64\n",
       " traveltime    int64\n",
       " studytime     int64\n",
       " failures      int64\n",
       " famrel        int64\n",
       " freetime      int64\n",
       " goout         int64\n",
       " Dalc          int64\n",
       " Walc          int64\n",
       " health        int64\n",
       " absences      int64\n",
       " G1            int64\n",
       " G2            int64\n",
       " G3            int64\n",
       " dtype: object)"
      ]
     },
     "execution_count": 6,
     "metadata": {},
     "output_type": "execute_result"
    }
   ],
   "source": [
    "categorical_vars = data.dtypes[data.dtypes == 'object'] \n",
    "numerical_vars = data.dtypes[data.dtypes == 'int64']\n",
    "\n",
    "categorical_vars, numerical_vars"
   ]
  },
  {
   "cell_type": "markdown",
   "id": "b002f170-51a0-4225-9aa9-c1dd8dccee19",
   "metadata": {
    "tags": []
   },
   "source": [
    "# Plots for numerical and categorical variables"
   ]
  },
  {
   "cell_type": "code",
   "execution_count": 7,
   "id": "325efa53-e4d4-4982-9dc4-a820270c699b",
   "metadata": {
    "tags": []
   },
   "outputs": [
    {
     "data": {
      "text/plain": [
       "Index(['Id', 'school', 'sex', 'age', 'address', 'famsize', 'Pstatus', 'Medu',\n",
       "       'Fedu', 'Mjob', 'Fjob', 'reason', 'guardian', 'traveltime', 'studytime',\n",
       "       'failures', 'schoolsup', 'famsup', 'paid', 'activities', 'nursery',\n",
       "       'higher', 'internet', 'romantic', 'famrel', 'freetime', 'goout', 'Dalc',\n",
       "       'Walc', 'health', 'absences', 'G1', 'G2', 'G3'],\n",
       "      dtype='object')"
      ]
     },
     "execution_count": 7,
     "metadata": {},
     "output_type": "execute_result"
    }
   ],
   "source": [
    "data.columns"
   ]
  },
  {
   "cell_type": "markdown",
   "id": "ecefa444-5214-4939-a2a8-50e7d45fcfd1",
   "metadata": {},
   "source": [
    "## Categorical data plots"
   ]
  },
  {
   "cell_type": "code",
   "execution_count": 8,
   "id": "8f154985-b751-439e-be21-6f0869fd0fb5",
   "metadata": {
    "tags": []
   },
   "outputs": [
    {
     "data": {
      "image/png": "[encoded data removed]",
      "text/plain": [
       "<Figure size 720x360 with 1 Axes>"
      ]
     },
     "metadata": {
      "needs_background": "light"
     },
     "output_type": "display_data"
    },
    {
     "data": {
      "image/png": "[encoded data removed]",
      "text/plain": [
       "<Figure size 720x360 with 1 Axes>"
      ]
     },
     "metadata": {
      "needs_background": "light"
     },
     "output_type": "display_data"
    },
    {
     "data": {
      "image/png": "[encoded data removed]",
      "text/plain": [
       "<Figure size 720x360 with 1 Axes>"
      ]
     },
     "metadata": {
      "needs_background": "light"
     },
     "output_type": "display_data"
    },
    {
     "data": {
      "image/png": "[encoded data removed]",
      "text/plain": [
       "<Figure size 720x360 with 1 Axes>"
      ]
     },
     "metadata": {
      "needs_background": "light"
     },
     "output_type": "display_data"
    },
    {
     "data": {
      "image/png": "[encoded data removed]",
      "text/plain": [
       "<Figure size 720x360 with 1 Axes>"
      ]
     },
     "metadata": {
      "needs_background": "light"
     },
     "output_type": "display_data"
    },
    {
     "data": {
      "image/png": "[encoded data removed]",
      "text/plain": [
       "<Figure size 720x360 with 1 Axes>"
      ]
     },
     "metadata": {
      "needs_background": "light"
     },
     "output_type": "display_data"
    },
    {
     "data": {
      "image/png": "[encoded data removed]",
      "text/plain": [
       "<Figure size 720x360 with 1 Axes>"
      ]
     },
     "metadata": {
      "needs_background": "light"
     },
     "output_type": "display_data"
    },
    {
     "data": {
      "image/png": "[encoded data removed]",
      "text/plain": [
       "<Figure size 720x360 with 1 Axes>"
      ]
     },
     "metadata": {
      "needs_background": "light"
     },
     "output_type": "display_data"
    },
    {
     "data": {
      "image/png": "[encoded data removed]",
      "text/plain": [
       "<Figure size 720x360 with 1 Axes>"
      ]
     },
     "metadata": {
      "needs_background": "light"
     },
     "output_type": "display_data"
    },
    {
     "data": {
      "image/png": "[encoded data removed]",
      "text/plain": [
       "<Figure size 720x360 with 1 Axes>"
      ]
     },
     "metadata": {
      "needs_background": "light"
     },
     "output_type": "display_data"
    },
    {
     "data": {
      "image/png": "[encoded data removed]",
      "text/plain": [
       "<Figure size 720x360 with 1 Axes>"
      ]
     },
     "metadata": {
      "needs_background": "light"
     },
     "output_type": "display_data"
    },
    {
     "data": {
      "image/png": "[encoded data removed]",
      "text/plain": [
       "<Figure size 720x360 with 1 Axes>"
      ]
     },
     "metadata": {
      "needs_background": "light"
     },
     "output_type": "display_data"
    },
    {
     "data": {
      "image/png": "[encoded data removed]",
      "text/plain": [
       "<Figure size 720x360 with 1 Axes>"
      ]
     },
     "metadata": {
      "needs_background": "light"
     },
     "output_type": "display_data"
    },
    {
     "data": {
      "image/png": "[encoded data removed]",
      "text/plain": [
       "<Figure size 720x360 with 1 Axes>"
      ]
     },
     "metadata": {
      "needs_background": "light"
     },
     "output_type": "display_data"
    },
    {
     "data": {
      "image/png": "[encoded data removed]",
      "text/plain": [
       "<Figure size 720x360 with 1 Axes>"
      ]
     },
     "metadata": {
      "needs_background": "light"
     },
     "output_type": "display_data"
    },
    {
     "data": {
      "image/png": "[encoded data removed]",
      "text/plain": [
       "<Figure size 720x360 with 1 Axes>"
      ]
     },
     "metadata": {
      "needs_background": "light"
     },
     "output_type": "display_data"
    },
    {
     "data": {
      "image/png": "[encoded data removed]",
      "text/plain": [
       "<Figure size 720x360 with 1 Axes>"
      ]
     },
     "metadata": {
      "needs_background": "light"
     },
     "output_type": "display_data"
    }
   ],
   "source": [
    "\n",
    "for i in categorical_vars.index:\n",
    "    plt.figure(figsize= (10,5))\n",
    "    graph = sns.countplot(x = i, data = data, palette= 'bright')\n",
    "    total = float(len(data))\n",
    "    for p in graph.patches:\n",
    "        pct = f\"{(100 * p.get_height()/total):.2f}%\"\n",
    "        x = p.get_x() + p.get_width()\n",
    "        y = p.get_height()\n",
    "        graph.annotate(pct, (x, y),ha='center')\n",
    "    \n",
    "    plt.show()"
   ]
  },
  {
   "cell_type": "markdown",
   "id": "6bc8a710-281d-4d80-ac36-dd6977b574e5",
   "metadata": {},
   "source": [
    "## Nuemrical data plots"
   ]
  },
  {
   "cell_type": "code",
   "execution_count": 9,
   "id": "3cd052d2-bfd8-4b67-a2a3-f230f71f5a59",
   "metadata": {
    "tags": []
   },
   "outputs": [
    {
     "data": {
      "image/png": "[encoded data removed]",
      "text/plain": [
       "<Figure size 1440x1296 with 20 Axes>"
      ]
     },
     "metadata": {
      "needs_background": "light"
     },
     "output_type": "display_data"
    }
   ],
   "source": [
    "data.hist(figsize=(20,18))\n",
    "plt.show()"
   ]
  },
  {
   "cell_type": "markdown",
   "id": "47789d40-f448-47fc-8170-fad58b15e8ff",
   "metadata": {
    "tags": []
   },
   "source": [
    "# Detailed Observations\n",
    "\n",
    "**Guardians data**\n",
    "- Most students (~70%) have mother as a guardian\n"
   ]
  },
  {
   "cell_type": "code",
   "execution_count": 10,
   "id": "1c48d35b-1dce-44e4-b69b-85fc7c654234",
   "metadata": {},
   "outputs": [
    {
     "data": {
      "image/png": "[encoded data removed]",
      "text/plain": [
       "<Figure size 720x288 with 1 Axes>"
      ]
     },
     "metadata": {
      "needs_background": "light"
     },
     "output_type": "display_data"
    }
   ],
   "source": [
    "plt.figure(figsize= (10,4))\n",
    "graph = sns.countplot(x = 'guardian', data = data, palette= 'bright')\n",
    "total = float(len(data))\n",
    "for p in graph.patches:\n",
    "    pct = f\"{(100 * p.get_height()/total):.2f}%\"\n",
    "    x = p.get_x() + p.get_width()\n",
    "    y = p.get_height()\n",
    "    graph.annotate(pct, (x, y),ha='center')\n",
    "    \n",
    "plt.show()"
   ]
  },
  {
   "cell_type": "markdown",
   "id": "e7362093-1f7b-4618-937f-daa3ff54ae6b",
   "metadata": {},
   "source": [
    "- Students with 'other' guardian have comparatively lower marks than those with 'mother' or 'father'\n"
   ]
  },
  {
   "cell_type": "code",
   "execution_count": 11,
   "id": "4487e7a4-5cec-4730-b596-ca8fd2895e2f",
   "metadata": {},
   "outputs": [
    {
     "data": {
      "text/plain": [
       "<AxesSubplot:xlabel='guardian', ylabel='G3'>"
      ]
     },
     "execution_count": 11,
     "metadata": {},
     "output_type": "execute_result"
    },
    {
     "data": {
      "image/png": "[encoded data removed]",
      "text/plain": [
       "<Figure size 432x288 with 1 Axes>"
      ]
     },
     "metadata": {
      "needs_background": "light"
     },
     "output_type": "display_data"
    }
   ],
   "source": [
    "sns.boxplot(x = 'guardian', y= 'G3', data = data)"
   ]
  },
  {
   "cell_type": "markdown",
   "id": "36e946ad-9353-4d11-86c9-47fef3d71594",
   "metadata": {},
   "source": [
    "**Study hours**\n",
    "- Approximately 47% students study for 2-5 hours a week, 30% study for less than 2 hrs"
   ]
  },
  {
   "cell_type": "code",
   "execution_count": 12,
   "id": "c9f8edc9-e96a-4ede-8a54-54576885e97d",
   "metadata": {},
   "outputs": [
    {
     "data": {
      "image/png": "[encoded data removed]",
      "text/plain": [
       "<Figure size 720x288 with 1 Axes>"
      ]
     },
     "metadata": {
      "needs_background": "light"
     },
     "output_type": "display_data"
    }
   ],
   "source": [
    "plt.figure(figsize= (10,4))\n",
    "graph = sns.countplot(x = 'studytime', data = data, palette= 'bright')\n",
    "total = float(len(data))\n",
    "for p in graph.patches:\n",
    "    pct = f\"{(100 * p.get_height()/total):.2f}%\"\n",
    "    x = p.get_x() + p.get_width()\n",
    "    y = p.get_height()\n",
    "    graph.annotate(pct, (x, y),ha='center')\n",
    "    \n",
    "plt.show()"
   ]
  },
  {
   "cell_type": "markdown",
   "id": "bf866143-08b8-418a-ba28-596f876a3223",
   "metadata": {},
   "source": [
    "**Failures**\n",
    "- About 87% students never failed"
   ]
  },
  {
   "cell_type": "code",
   "execution_count": 13,
   "id": "d06d8b10-2394-41f5-bd8b-c334becaac4b",
   "metadata": {},
   "outputs": [
    {
     "data": {
      "image/png": "[encoded data removed]",
      "text/plain": [
       "<Figure size 720x288 with 1 Axes>"
      ]
     },
     "metadata": {
      "needs_background": "light"
     },
     "output_type": "display_data"
    }
   ],
   "source": [
    "plt.figure(figsize= (10,4))\n",
    "graph = sns.countplot(x = 'failures', data = data, palette= 'bright')\n",
    "total = float(len(data))\n",
    "for p in graph.patches:\n",
    "    pct = f\"{(100 * p.get_height()/total):.2f}%\"\n",
    "    x = p.get_x() + p.get_width()\n",
    "    y = p.get_height()\n",
    "    graph.annotate(pct, (x, y),ha='center')\n",
    "    \n",
    "plt.show()"
   ]
  },
  {
   "cell_type": "markdown",
   "id": "d0e71b78-cd06-493e-ae3e-6c45b176b01d",
   "metadata": {},
   "source": [
    "**Students in Rural and Urban areas**<br>\n",
    "\n",
    "- ~74% students live in Urban areas<br>\n",
    "\n",
    "- It is clear from the bar plot that more students in urban areas get higher study time <br>\n",
    "\n",
    "- More students from urabn areas have a commute time of less than 15 mins<br>"
   ]
  },
  {
   "cell_type": "code",
   "execution_count": 14,
   "id": "2dcf031f-f32e-489d-9375-a6977d845e9a",
   "metadata": {
    "tags": []
   },
   "outputs": [
    {
     "data": {
      "image/png": "[encoded data removed]",
      "text/plain": [
       "<Figure size 720x288 with 1 Axes>"
      ]
     },
     "metadata": {
      "needs_background": "light"
     },
     "output_type": "display_data"
    }
   ],
   "source": [
    "plt.figure(figsize= (10,4))\n",
    "graph = sns.countplot(x = 'address', data = data, palette= 'bright',hue = 'studytime')\n",
    "total = float(len(data))\n",
    "for p in graph.patches:\n",
    "    pct = f\"{(100 * p.get_height()/total):.2f}%\"\n",
    "    x = p.get_x() + p.get_width()\n",
    "    y = p.get_height()\n",
    "    graph.annotate(pct, (x, y),ha='center')\n",
    "    \n",
    "plt.show()"
   ]
  },
  {
   "cell_type": "code",
   "execution_count": 15,
   "id": "251bccfd-dcfe-4141-bf40-b1105dce636b",
   "metadata": {},
   "outputs": [
    {
     "data": {
      "text/plain": [
       "<AxesSubplot:xlabel='address', ylabel='G3'>"
      ]
     },
     "execution_count": 15,
     "metadata": {},
     "output_type": "execute_result"
    },
    {
     "data": {
      "image/png": "[encoded data removed]",
      "text/plain": [
       "<Figure size 432x288 with 1 Axes>"
      ]
     },
     "metadata": {
      "needs_background": "light"
     },
     "output_type": "display_data"
    }
   ],
   "source": [
    "sns.boxplot(x = 'address', y= 'G3', data = data)"
   ]
  },
  {
   "cell_type": "code",
   "execution_count": 16,
   "id": "ce7e1a70-236b-4e09-ab82-64cc1b6f2680",
   "metadata": {
    "jupyter": {
     "source_hidden": true
    },
    "tags": []
   },
   "outputs": [
    {
     "data": {
      "image/png": "[encoded data removed]",
      "text/plain": [
       "<Figure size 720x288 with 1 Axes>"
      ]
     },
     "metadata": {
      "needs_background": "light"
     },
     "output_type": "display_data"
    }
   ],
   "source": [
    "plt.figure(figsize= (10,4))\n",
    "graph = sns.countplot(x = 'address', data = data, palette= 'bright',hue = 'traveltime')\n",
    "total = float(len(data))\n",
    "for p in graph.patches:\n",
    "    pct = f\"{(100 * p.get_height()/total):.2f}%\"\n",
    "    x = p.get_x() + p.get_width()\n",
    "    y = p.get_height()\n",
    "    graph.annotate(pct, (x, y),ha='center')\n",
    "    \n",
    "plt.show()"
   ]
  },
  {
   "cell_type": "markdown",
   "id": "12fab579-fca2-44f6-8548-4183afac5f35",
   "metadata": {},
   "source": [
    "**Effect of internet availability on overall grades**\n",
    "- More number of students from 'having internet' category scored marks closer to the average as compared to those who did not have internet facilities \n"
   ]
  },
  {
   "cell_type": "code",
   "execution_count": 17,
   "id": "207fedcc-76f2-43f3-94ad-5cc601e26d8c",
   "metadata": {},
   "outputs": [
    {
     "data": {
      "image/png": "[encoded data removed]",
      "text/plain": [
       "<Figure size 1440x288 with 1 Axes>"
      ]
     },
     "metadata": {
      "needs_background": "light"
     },
     "output_type": "display_data"
    }
   ],
   "source": [
    "plt.figure(figsize= (20,4))\n",
    "graph = sns.histplot(x = 'G3', data = data, palette= 'bright',hue = 'internet')\n",
    "# total = float(len(data))\n",
    "# for p in graph.patches:\n",
    "#     pct = f\"{(100 * p.get_height()/total):.2f}%\"\n",
    "#     x = p.get_x() + p.get_width()\n",
    "#     y = p.get_height()\n",
    "#     graph.annotate(pct, (x, y),ha='center')\n",
    "    \n",
    "plt.show()"
   ]
  },
  {
   "cell_type": "markdown",
   "id": "b22a9478-5478-41c9-92fc-50f0dc56ec10",
   "metadata": {},
   "source": [
    "**Grade variables**"
   ]
  },
  {
   "cell_type": "code",
   "execution_count": 19,
   "id": "3c888f91-a478-46ca-9bfa-66277c9daf58",
   "metadata": {
    "tags": []
   },
   "outputs": [
    {
     "data": {
      "image/png": "[encoded data removed]",
      "text/plain": [
       "<Figure size 1080x720 with 1 Axes>"
      ]
     },
     "metadata": {
      "needs_background": "light"
     },
     "output_type": "display_data"
    }
   ],
   "source": [
    "plt.figure(figsize=(15,10))\n",
    "sns.boxplot(x = 'variable', y = 'value', data = pd.melt(data[['G1', 'G2', 'G3']]))\n",
    "\n",
    "plt.show()"
   ]
  },
  {
   "cell_type": "markdown",
   "id": "0f0796a7-3dff-404c-b02b-6e83e5d3beef",
   "metadata": {},
   "source": [
    "# Implementing a Predictive Model using Linear Regression"
   ]
  },
  {
   "cell_type": "markdown",
   "id": "5ed5ccef-a599-4895-9dd8-f6e833277937",
   "metadata": {},
   "source": [
    "## Importing required libraries"
   ]
  },
  {
   "cell_type": "code",
   "execution_count": 20,
   "id": "0d934142-7aba-42bb-91b4-71e979dc459c",
   "metadata": {},
   "outputs": [],
   "source": [
    "from sklearn.preprocessing import StandardScaler\n",
    "from sklearn.linear_model import Lasso, Ridge, RidgeCV, LassoCV, ElasticNet, ElasticNetCV, LinearRegression\n",
    "from sklearn.model_selection import train_test_split\n",
    "import statsmodels.api\n",
    "from statsmodels.stats.outliers_influence import variance_inflation_factor as vif"
   ]
  },
  {
   "cell_type": "markdown",
   "id": "8893c117-ed4e-4664-85fd-6c24fadcdcde",
   "metadata": {},
   "source": [
    "## Scaling the data to a unit variance"
   ]
  },
  {
   "cell_type": "markdown",
   "id": "0583e60d-27db-4ca7-b24c-83baf72122cf",
   "metadata": {},
   "source": [
    "- This is required because the data we have has a wide range"
   ]
  },
  {
   "cell_type": "code",
   "execution_count": 21,
   "id": "3b3855cb-1211-4567-8431-311a5d1d6750",
   "metadata": {},
   "outputs": [],
   "source": [
    "scaler =  StandardScaler()"
   ]
  },
  {
   "cell_type": "markdown",
   "id": "75ece6c7-4b59-46e9-b296-4d776007e588",
   "metadata": {},
   "source": [
    "**Defining feature and target variables***\n",
    "- Here we are considering all the numerical variables as features and column 'G3' as target"
   ]
  },
  {
   "cell_type": "code",
   "execution_count": 22,
   "id": "bdee8d12-0185-4e21-87e7-59fb74d2ce75",
   "metadata": {
    "tags": []
   },
   "outputs": [
    {
     "data": {
      "text/html": [
       "<div>\n",
       "<style scoped>\n",
       "    .dataframe tbody tr th:only-of-type {\n",
       "        vertical-align: middle;\n",
       "    }\n",
       "\n",
       "    .dataframe tbody tr th {\n",
       "        vertical-align: top;\n",
       "    }\n",
       "\n",
       "    .dataframe thead th {\n",
       "        text-align: right;\n",
       "    }\n",
       "</style>\n",
       "<table border=\"1\" class=\"dataframe\">\n",
       "  <thead>\n",
       "    <tr style=\"text-align: right;\">\n",
       "      <th></th>\n",
       "      <th>age</th>\n",
       "      <th>Medu</th>\n",
       "      <th>Fedu</th>\n",
       "      <th>traveltime</th>\n",
       "      <th>studytime</th>\n",
       "      <th>failures</th>\n",
       "      <th>famrel</th>\n",
       "      <th>freetime</th>\n",
       "      <th>goout</th>\n",
       "      <th>Dalc</th>\n",
       "      <th>Walc</th>\n",
       "      <th>health</th>\n",
       "      <th>absences</th>\n",
       "      <th>G1</th>\n",
       "      <th>G2</th>\n",
       "    </tr>\n",
       "  </thead>\n",
       "  <tbody>\n",
       "    <tr>\n",
       "      <th>0</th>\n",
       "      <td>18</td>\n",
       "      <td>4</td>\n",
       "      <td>4</td>\n",
       "      <td>2</td>\n",
       "      <td>2</td>\n",
       "      <td>0</td>\n",
       "      <td>4</td>\n",
       "      <td>3</td>\n",
       "      <td>4</td>\n",
       "      <td>1</td>\n",
       "      <td>1</td>\n",
       "      <td>3</td>\n",
       "      <td>4</td>\n",
       "      <td>0</td>\n",
       "      <td>11</td>\n",
       "    </tr>\n",
       "    <tr>\n",
       "      <th>1</th>\n",
       "      <td>17</td>\n",
       "      <td>1</td>\n",
       "      <td>1</td>\n",
       "      <td>1</td>\n",
       "      <td>2</td>\n",
       "      <td>0</td>\n",
       "      <td>5</td>\n",
       "      <td>3</td>\n",
       "      <td>3</td>\n",
       "      <td>1</td>\n",
       "      <td>1</td>\n",
       "      <td>3</td>\n",
       "      <td>2</td>\n",
       "      <td>9</td>\n",
       "      <td>11</td>\n",
       "    </tr>\n",
       "    <tr>\n",
       "      <th>2</th>\n",
       "      <td>15</td>\n",
       "      <td>1</td>\n",
       "      <td>1</td>\n",
       "      <td>1</td>\n",
       "      <td>2</td>\n",
       "      <td>0</td>\n",
       "      <td>4</td>\n",
       "      <td>3</td>\n",
       "      <td>2</td>\n",
       "      <td>2</td>\n",
       "      <td>3</td>\n",
       "      <td>3</td>\n",
       "      <td>6</td>\n",
       "      <td>12</td>\n",
       "      <td>13</td>\n",
       "    </tr>\n",
       "    <tr>\n",
       "      <th>3</th>\n",
       "      <td>15</td>\n",
       "      <td>4</td>\n",
       "      <td>2</td>\n",
       "      <td>1</td>\n",
       "      <td>3</td>\n",
       "      <td>0</td>\n",
       "      <td>3</td>\n",
       "      <td>2</td>\n",
       "      <td>2</td>\n",
       "      <td>1</td>\n",
       "      <td>1</td>\n",
       "      <td>5</td>\n",
       "      <td>0</td>\n",
       "      <td>14</td>\n",
       "      <td>14</td>\n",
       "    </tr>\n",
       "    <tr>\n",
       "      <th>4</th>\n",
       "      <td>16</td>\n",
       "      <td>3</td>\n",
       "      <td>3</td>\n",
       "      <td>1</td>\n",
       "      <td>2</td>\n",
       "      <td>0</td>\n",
       "      <td>4</td>\n",
       "      <td>3</td>\n",
       "      <td>2</td>\n",
       "      <td>1</td>\n",
       "      <td>2</td>\n",
       "      <td>5</td>\n",
       "      <td>0</td>\n",
       "      <td>11</td>\n",
       "      <td>13</td>\n",
       "    </tr>\n",
       "    <tr>\n",
       "      <th>...</th>\n",
       "      <td>...</td>\n",
       "      <td>...</td>\n",
       "      <td>...</td>\n",
       "      <td>...</td>\n",
       "      <td>...</td>\n",
       "      <td>...</td>\n",
       "      <td>...</td>\n",
       "      <td>...</td>\n",
       "      <td>...</td>\n",
       "      <td>...</td>\n",
       "      <td>...</td>\n",
       "      <td>...</td>\n",
       "      <td>...</td>\n",
       "      <td>...</td>\n",
       "      <td>...</td>\n",
       "    </tr>\n",
       "    <tr>\n",
       "      <th>513</th>\n",
       "      <td>16</td>\n",
       "      <td>3</td>\n",
       "      <td>1</td>\n",
       "      <td>1</td>\n",
       "      <td>1</td>\n",
       "      <td>0</td>\n",
       "      <td>3</td>\n",
       "      <td>1</td>\n",
       "      <td>3</td>\n",
       "      <td>1</td>\n",
       "      <td>3</td>\n",
       "      <td>1</td>\n",
       "      <td>0</td>\n",
       "      <td>8</td>\n",
       "      <td>6</td>\n",
       "    </tr>\n",
       "    <tr>\n",
       "      <th>514</th>\n",
       "      <td>16</td>\n",
       "      <td>3</td>\n",
       "      <td>2</td>\n",
       "      <td>1</td>\n",
       "      <td>1</td>\n",
       "      <td>0</td>\n",
       "      <td>3</td>\n",
       "      <td>1</td>\n",
       "      <td>3</td>\n",
       "      <td>1</td>\n",
       "      <td>4</td>\n",
       "      <td>3</td>\n",
       "      <td>2</td>\n",
       "      <td>7</td>\n",
       "      <td>6</td>\n",
       "    </tr>\n",
       "    <tr>\n",
       "      <th>515</th>\n",
       "      <td>18</td>\n",
       "      <td>1</td>\n",
       "      <td>1</td>\n",
       "      <td>2</td>\n",
       "      <td>2</td>\n",
       "      <td>0</td>\n",
       "      <td>2</td>\n",
       "      <td>3</td>\n",
       "      <td>5</td>\n",
       "      <td>1</td>\n",
       "      <td>4</td>\n",
       "      <td>3</td>\n",
       "      <td>8</td>\n",
       "      <td>9</td>\n",
       "      <td>8</td>\n",
       "    </tr>\n",
       "    <tr>\n",
       "      <th>516</th>\n",
       "      <td>16</td>\n",
       "      <td>4</td>\n",
       "      <td>4</td>\n",
       "      <td>1</td>\n",
       "      <td>2</td>\n",
       "      <td>0</td>\n",
       "      <td>4</td>\n",
       "      <td>3</td>\n",
       "      <td>3</td>\n",
       "      <td>2</td>\n",
       "      <td>3</td>\n",
       "      <td>2</td>\n",
       "      <td>0</td>\n",
       "      <td>14</td>\n",
       "      <td>16</td>\n",
       "    </tr>\n",
       "    <tr>\n",
       "      <th>517</th>\n",
       "      <td>16</td>\n",
       "      <td>1</td>\n",
       "      <td>2</td>\n",
       "      <td>2</td>\n",
       "      <td>1</td>\n",
       "      <td>0</td>\n",
       "      <td>5</td>\n",
       "      <td>4</td>\n",
       "      <td>5</td>\n",
       "      <td>1</td>\n",
       "      <td>4</td>\n",
       "      <td>2</td>\n",
       "      <td>0</td>\n",
       "      <td>14</td>\n",
       "      <td>14</td>\n",
       "    </tr>\n",
       "  </tbody>\n",
       "</table>\n",
       "<p>518 rows × 15 columns</p>\n",
       "</div>"
      ],
      "text/plain": [
       "     age  Medu  Fedu  traveltime  studytime  failures  famrel  freetime  \\\n",
       "0     18     4     4           2          2         0       4         3   \n",
       "1     17     1     1           1          2         0       5         3   \n",
       "2     15     1     1           1          2         0       4         3   \n",
       "3     15     4     2           1          3         0       3         2   \n",
       "4     16     3     3           1          2         0       4         3   \n",
       "..   ...   ...   ...         ...        ...       ...     ...       ...   \n",
       "513   16     3     1           1          1         0       3         1   \n",
       "514   16     3     2           1          1         0       3         1   \n",
       "515   18     1     1           2          2         0       2         3   \n",
       "516   16     4     4           1          2         0       4         3   \n",
       "517   16     1     2           2          1         0       5         4   \n",
       "\n",
       "     goout  Dalc  Walc  health  absences  G1  G2  \n",
       "0        4     1     1       3         4   0  11  \n",
       "1        3     1     1       3         2   9  11  \n",
       "2        2     2     3       3         6  12  13  \n",
       "3        2     1     1       5         0  14  14  \n",
       "4        2     1     2       5         0  11  13  \n",
       "..     ...   ...   ...     ...       ...  ..  ..  \n",
       "513      3     1     3       1         0   8   6  \n",
       "514      3     1     4       3         2   7   6  \n",
       "515      5     1     4       3         8   9   8  \n",
       "516      3     2     3       2         0  14  16  \n",
       "517      5     1     4       2         0  14  14  \n",
       "\n",
       "[518 rows x 15 columns]"
      ]
     },
     "execution_count": 22,
     "metadata": {},
     "output_type": "execute_result"
    }
   ],
   "source": [
    "X = data[numerical_vars.index].drop(columns=['Id', 'G3'])\n",
    "X"
   ]
  },
  {
   "cell_type": "code",
   "execution_count": 23,
   "id": "40134266-e24b-4d0e-98c2-0dbb2ace5c61",
   "metadata": {},
   "outputs": [],
   "source": [
    "y = data['G3']"
   ]
  },
  {
   "cell_type": "code",
   "execution_count": 24,
   "id": "1b3a11f9-e9b7-403b-b727-024ac595dcd8",
   "metadata": {},
   "outputs": [],
   "source": [
    "arr = scaler.fit_transform(X)"
   ]
  },
  {
   "cell_type": "markdown",
   "id": "2cf8ce7c-d22d-4114-ab5c-12fb7fd46a9c",
   "metadata": {},
   "source": [
    "**Finding Variation inflation factor (vif)** for each columns<br>\n",
    "Standard acceptable vif value is <10<br>\n",
    "So we should drop a column which has vif >= 10"
   ]
  },
  {
   "cell_type": "code",
   "execution_count": 25,
   "id": "a9654e52-aad2-469e-86ac-13aa7a9f1c67",
   "metadata": {},
   "outputs": [
    {
     "data": {
      "text/plain": [
       "[1.253186067218731,\n",
       " 1.8462728732526232,\n",
       " 1.7860498706067724,\n",
       " 1.1079935899811844,\n",
       " 1.1436681085552456,\n",
       " 1.3025671509758214,\n",
       " 1.1067956037568312,\n",
       " 1.1617961028014965,\n",
       " 1.3746667933174581,\n",
       " 1.7330608576284452,\n",
       " 1.9680392624900334,\n",
       " 1.0775006183088571,\n",
       " 1.1375848490670828,\n",
       " 4.352149038245545,\n",
       " 4.5303473211085725]"
      ]
     },
     "execution_count": 25,
     "metadata": {},
     "output_type": "execute_result"
    }
   ],
   "source": [
    "[vif(arr, i ) for i in range(arr.shape[1])]"
   ]
  },
  {
   "cell_type": "code",
   "execution_count": 26,
   "id": "bebb7cf3-1723-412f-8e22-065541fe50c2",
   "metadata": {},
   "outputs": [],
   "source": [
    "vif_df = pd.DataFrame()"
   ]
  },
  {
   "cell_type": "code",
   "execution_count": 27,
   "id": "a189377b-2d16-4f47-90a6-77d3c08a83ab",
   "metadata": {},
   "outputs": [],
   "source": [
    "vif_df['features'] = X.columns\n",
    "vif_df['vif'] = [vif(arr, i ) for i in range(arr.shape[1])]"
   ]
  },
  {
   "cell_type": "code",
   "execution_count": 28,
   "id": "b84a5a7a-a194-4267-94c3-3cbd02ad91b3",
   "metadata": {},
   "outputs": [
    {
     "data": {
      "text/html": [
       "<div>\n",
       "<style scoped>\n",
       "    .dataframe tbody tr th:only-of-type {\n",
       "        vertical-align: middle;\n",
       "    }\n",
       "\n",
       "    .dataframe tbody tr th {\n",
       "        vertical-align: top;\n",
       "    }\n",
       "\n",
       "    .dataframe thead th {\n",
       "        text-align: right;\n",
       "    }\n",
       "</style>\n",
       "<table border=\"1\" class=\"dataframe\">\n",
       "  <thead>\n",
       "    <tr style=\"text-align: right;\">\n",
       "      <th></th>\n",
       "      <th>features</th>\n",
       "      <th>vif</th>\n",
       "    </tr>\n",
       "  </thead>\n",
       "  <tbody>\n",
       "    <tr>\n",
       "      <th>0</th>\n",
       "      <td>age</td>\n",
       "      <td>1.253186</td>\n",
       "    </tr>\n",
       "    <tr>\n",
       "      <th>1</th>\n",
       "      <td>Medu</td>\n",
       "      <td>1.846273</td>\n",
       "    </tr>\n",
       "    <tr>\n",
       "      <th>2</th>\n",
       "      <td>Fedu</td>\n",
       "      <td>1.786050</td>\n",
       "    </tr>\n",
       "    <tr>\n",
       "      <th>3</th>\n",
       "      <td>traveltime</td>\n",
       "      <td>1.107994</td>\n",
       "    </tr>\n",
       "    <tr>\n",
       "      <th>4</th>\n",
       "      <td>studytime</td>\n",
       "      <td>1.143668</td>\n",
       "    </tr>\n",
       "    <tr>\n",
       "      <th>5</th>\n",
       "      <td>failures</td>\n",
       "      <td>1.302567</td>\n",
       "    </tr>\n",
       "    <tr>\n",
       "      <th>6</th>\n",
       "      <td>famrel</td>\n",
       "      <td>1.106796</td>\n",
       "    </tr>\n",
       "    <tr>\n",
       "      <th>7</th>\n",
       "      <td>freetime</td>\n",
       "      <td>1.161796</td>\n",
       "    </tr>\n",
       "    <tr>\n",
       "      <th>8</th>\n",
       "      <td>goout</td>\n",
       "      <td>1.374667</td>\n",
       "    </tr>\n",
       "    <tr>\n",
       "      <th>9</th>\n",
       "      <td>Dalc</td>\n",
       "      <td>1.733061</td>\n",
       "    </tr>\n",
       "    <tr>\n",
       "      <th>10</th>\n",
       "      <td>Walc</td>\n",
       "      <td>1.968039</td>\n",
       "    </tr>\n",
       "    <tr>\n",
       "      <th>11</th>\n",
       "      <td>health</td>\n",
       "      <td>1.077501</td>\n",
       "    </tr>\n",
       "    <tr>\n",
       "      <th>12</th>\n",
       "      <td>absences</td>\n",
       "      <td>1.137585</td>\n",
       "    </tr>\n",
       "    <tr>\n",
       "      <th>13</th>\n",
       "      <td>G1</td>\n",
       "      <td>4.352149</td>\n",
       "    </tr>\n",
       "    <tr>\n",
       "      <th>14</th>\n",
       "      <td>G2</td>\n",
       "      <td>4.530347</td>\n",
       "    </tr>\n",
       "  </tbody>\n",
       "</table>\n",
       "</div>"
      ],
      "text/plain": [
       "      features       vif\n",
       "0          age  1.253186\n",
       "1         Medu  1.846273\n",
       "2         Fedu  1.786050\n",
       "3   traveltime  1.107994\n",
       "4    studytime  1.143668\n",
       "5     failures  1.302567\n",
       "6       famrel  1.106796\n",
       "7     freetime  1.161796\n",
       "8        goout  1.374667\n",
       "9         Dalc  1.733061\n",
       "10        Walc  1.968039\n",
       "11      health  1.077501\n",
       "12    absences  1.137585\n",
       "13          G1  4.352149\n",
       "14          G2  4.530347"
      ]
     },
     "execution_count": 28,
     "metadata": {},
     "output_type": "execute_result"
    }
   ],
   "source": [
    "vif_df ## drop columns where vif is greater than or equal to 10"
   ]
  },
  {
   "cell_type": "markdown",
   "id": "0993b3b7-7443-40a2-b003-d08a08b3caee",
   "metadata": {},
   "source": [
    "## Splitting the dataset into train and test dataset"
   ]
  },
  {
   "cell_type": "code",
   "execution_count": 29,
   "id": "d5218284-0f63-4ab0-ba02-df0487c54498",
   "metadata": {},
   "outputs": [],
   "source": [
    "X_train, X_test, y_train, y_test =  train_test_split(arr,y, test_size=0.15, random_state=200)"
   ]
  },
  {
   "cell_type": "markdown",
   "id": "14587117-4891-4158-95e8-11c636e3805e",
   "metadata": {},
   "source": [
    "> Note :  We can tune the random state parameter to get better results"
   ]
  },
  {
   "cell_type": "markdown",
   "id": "6cb50e5a-b29c-49d3-ba42-114c56535e11",
   "metadata": {},
   "source": [
    "## Implementing linear regression model on train dataset"
   ]
  },
  {
   "cell_type": "code",
   "execution_count": 30,
   "id": "0c63080c-e026-4a15-bbd0-9edb00d7b3b0",
   "metadata": {},
   "outputs": [
    {
     "data": {
      "text/html": [
       "<style>#sk-container-id-1 {color: black;background-color: white;}#sk-container-id-1 pre{padding: 0;}#sk-container-id-1 div.sk-toggleable {background-color: white;}#sk-container-id-1 label.sk-toggleable__label {cursor: pointer;display: block;width: 100%;margin-bottom: 0;padding: 0.3em;box-sizing: border-box;text-align: center;}#sk-container-id-1 label.sk-toggleable__label-arrow:before {content: \"▸\";float: left;margin-right: 0.25em;color: #696969;}#sk-container-id-1 label.sk-toggleable__label-arrow:hover:before {color: black;}#sk-container-id-1 div.sk-estimator:hover label.sk-toggleable__label-arrow:before {color: black;}#sk-container-id-1 div.sk-toggleable__content {max-height: 0;max-width: 0;overflow: hidden;text-align: left;background-color: #f0f8ff;}#sk-container-id-1 div.sk-toggleable__content pre {margin: 0.2em;color: black;border-radius: 0.25em;background-color: #f0f8ff;}#sk-container-id-1 input.sk-toggleable__control:checked~div.sk-toggleable__content {max-height: 200px;max-width: 100%;overflow: auto;}#sk-container-id-1 input.sk-toggleable__control:checked~label.sk-toggleable__label-arrow:before {content: \"▾\";}#sk-container-id-1 div.sk-estimator input.sk-toggleable__control:checked~label.sk-toggleable__label {background-color: #d4ebff;}#sk-container-id-1 div.sk-label input.sk-toggleable__control:checked~label.sk-toggleable__label {background-color: #d4ebff;}#sk-container-id-1 input.sk-hidden--visually {border: 0;clip: rect(1px 1px 1px 1px);clip: rect(1px, 1px, 1px, 1px);height: 1px;margin: -1px;overflow: hidden;padding: 0;position: absolute;width: 1px;}#sk-container-id-1 div.sk-estimator {font-family: monospace;background-color: #f0f8ff;border: 1px dotted black;border-radius: 0.25em;box-sizing: border-box;margin-bottom: 0.5em;}#sk-container-id-1 div.sk-estimator:hover {background-color: #d4ebff;}#sk-container-id-1 div.sk-parallel-item::after {content: \"\";width: 100%;border-bottom: 1px solid gray;flex-grow: 1;}#sk-container-id-1 div.sk-label:hover label.sk-toggleable__label {background-color: #d4ebff;}#sk-container-id-1 div.sk-serial::before {content: \"\";position: absolute;border-left: 1px solid gray;box-sizing: border-box;top: 0;bottom: 0;left: 50%;z-index: 0;}#sk-container-id-1 div.sk-serial {display: flex;flex-direction: column;align-items: center;background-color: white;padding-right: 0.2em;padding-left: 0.2em;position: relative;}#sk-container-id-1 div.sk-item {position: relative;z-index: 1;}#sk-container-id-1 div.sk-parallel {display: flex;align-items: stretch;justify-content: center;background-color: white;position: relative;}#sk-container-id-1 div.sk-item::before, #sk-container-id-1 div.sk-parallel-item::before {content: \"\";position: absolute;border-left: 1px solid gray;box-sizing: border-box;top: 0;bottom: 0;left: 50%;z-index: -1;}#sk-container-id-1 div.sk-parallel-item {display: flex;flex-direction: column;z-index: 1;position: relative;background-color: white;}#sk-container-id-1 div.sk-parallel-item:first-child::after {align-self: flex-end;width: 50%;}#sk-container-id-1 div.sk-parallel-item:last-child::after {align-self: flex-start;width: 50%;}#sk-container-id-1 div.sk-parallel-item:only-child::after {width: 0;}#sk-container-id-1 div.sk-dashed-wrapped {border: 1px dashed gray;margin: 0 0.4em 0.5em 0.4em;box-sizing: border-box;padding-bottom: 0.4em;background-color: white;}#sk-container-id-1 div.sk-label label {font-family: monospace;font-weight: bold;display: inline-block;line-height: 1.2em;}#sk-container-id-1 div.sk-label-container {text-align: center;}#sk-container-id-1 div.sk-container {/* jupyter's `normalize.less` sets `[hidden] { display: none; }` but bootstrap.min.css set `[hidden] { display: none !important; }` so we also need the `!important` here to be able to override the default hidden behavior on the sphinx rendered scikit-learn.org. See: https://github.com/scikit-learn/scikit-learn/issues/21755 */display: inline-block !important;position: relative;}#sk-container-id-1 div.sk-text-repr-fallback {display: none;}</style><div id=\"sk-container-id-1\" class=\"sk-top-container\"><div class=\"sk-text-repr-fallback\"><pre>LinearRegression()</pre><b>In a Jupyter environment, please rerun this cell to show the HTML representation or trust the notebook. <br />On GitHub, the HTML representation is unable to render, please try loading this page with nbviewer.org.</b></div><div class=\"sk-container\" hidden><div class=\"sk-item\"><div class=\"sk-estimator sk-toggleable\"><input class=\"sk-toggleable__control sk-hidden--visually\" id=\"sk-estimator-id-1\" type=\"checkbox\" checked><label for=\"sk-estimator-id-1\" class=\"sk-toggleable__label sk-toggleable__label-arrow\">LinearRegression</label><div class=\"sk-toggleable__content\"><pre>LinearRegression()</pre></div></div></div></div></div>"
      ],
      "text/plain": [
       "LinearRegression()"
      ]
     },
     "execution_count": 30,
     "metadata": {},
     "output_type": "execute_result"
    }
   ],
   "source": [
    "linear= LinearRegression()\n",
    "linear.fit(X_train, y_train)"
   ]
  },
  {
   "cell_type": "markdown",
   "id": "c69ac980-335b-4e6e-83df-626e9b47affb",
   "metadata": {
    "tags": []
   },
   "source": [
    "## Checking accuracy "
   ]
  },
  {
   "cell_type": "code",
   "execution_count": 31,
   "id": "8d616889-f828-4a1c-8989-a402b4d97304",
   "metadata": {},
   "outputs": [
    {
     "data": {
      "text/plain": [
       "0.8005228369391474"
      ]
     },
     "execution_count": 31,
     "metadata": {},
     "output_type": "execute_result"
    }
   ],
   "source": [
    "linear.score(X_test, y_test)"
   ]
  },
  {
   "cell_type": "markdown",
   "id": "b30dd178-d05d-4219-9bb6-601308158a10",
   "metadata": {},
   "source": [
    "### Testing the prediction model with manually prepared input"
   ]
  },
  {
   "cell_type": "code",
   "execution_count": 32,
   "id": "2fe3836f-870d-441b-9ece-b0656fae84c4",
   "metadata": {
    "tags": []
   },
   "outputs": [
    {
     "data": {
      "text/plain": [
       "age           18\n",
       "Medu           4\n",
       "Fedu           4\n",
       "traveltime     2\n",
       "studytime      2\n",
       "failures       0\n",
       "famrel         4\n",
       "freetime       3\n",
       "goout          4\n",
       "Dalc           1\n",
       "Walc           1\n",
       "health         3\n",
       "absences       4\n",
       "G1             0\n",
       "G2            11\n",
       "Name: 0, dtype: int64"
      ]
     },
     "execution_count": 32,
     "metadata": {},
     "output_type": "execute_result"
    }
   ],
   "source": [
    "X.iloc[0]"
   ]
  },
  {
   "cell_type": "code",
   "execution_count": 33,
   "id": "eccfd408-ad20-4e0c-8b1c-801ada322603",
   "metadata": {},
   "outputs": [],
   "source": [
    "sample = [[17,3,3,3,7,1,3,5,2,1,1,2,8,1,16]]"
   ]
  },
  {
   "cell_type": "code",
   "execution_count": 34,
   "id": "490e4700-ba4b-470b-8c48-94175c4c2f3e",
   "metadata": {},
   "outputs": [
    {
     "data": {
      "text/plain": [
       "array([48.36650111])"
      ]
     },
     "execution_count": 34,
     "metadata": {},
     "output_type": "execute_result"
    }
   ],
   "source": [
    "linear.predict(sample)"
   ]
  },
  {
   "cell_type": "markdown",
   "id": "7da1d8be-2191-4693-8e9a-d3c4f4e923ab",
   "metadata": {},
   "source": [
    "- We are getting result > 20 because we have used the scaled data as our input.<br>\n",
    "- We have to transform the sample input again to obtain the desired result"
   ]
  },
  {
   "cell_type": "code",
   "execution_count": 35,
   "id": "598ee1ea-5ddf-4494-b88f-c03d33b6fb64",
   "metadata": {
    "tags": []
   },
   "outputs": [],
   "source": [
    "test1 = scaler.transform(sample)"
   ]
  },
  {
   "cell_type": "code",
   "execution_count": 36,
   "id": "27a145eb-d427-48b1-957a-ca8a25acc7eb",
   "metadata": {},
   "outputs": [
    {
     "data": {
      "text/plain": [
       "array([14.00857774])"
      ]
     },
     "execution_count": 36,
     "metadata": {},
     "output_type": "execute_result"
    }
   ],
   "source": [
    "linear.predict(test1)"
   ]
  },
  {
   "cell_type": "markdown",
   "id": "2c670b22-7cef-4f0f-8f7a-5148653b1cb8",
   "metadata": {},
   "source": [
    "## Running the prediction model on an untested dataset"
   ]
  },
  {
   "cell_type": "code",
   "execution_count": 37,
   "id": "700cf2d5-e750-4217-a387-35b99100f9ab",
   "metadata": {},
   "outputs": [],
   "source": [
    "final_test_df = pd.read_csv('data/stu_test.csv')"
   ]
  },
  {
   "cell_type": "code",
   "execution_count": 38,
   "id": "10326d8d-e19b-4b0c-9c06-53076aabe9f5",
   "metadata": {},
   "outputs": [],
   "source": [
    "X_test_final = final_test_df[numerical_vars.index].drop(columns=['Id', 'G3'])"
   ]
  },
  {
   "cell_type": "code",
   "execution_count": 39,
   "id": "1a7efbb9-ad48-4cf1-8eab-3c66f2eb3f92",
   "metadata": {},
   "outputs": [],
   "source": [
    "y_test_pred = final_test_df['G3']"
   ]
  },
  {
   "cell_type": "code",
   "execution_count": 40,
   "id": "fd0feaa3-a3c8-4cf6-821d-76c1702ea097",
   "metadata": {
    "tags": []
   },
   "outputs": [],
   "source": [
    "for i in range(len(y_test_pred)):\n",
    "    y_test_pred.iloc[i] = linear.predict(scaler.transform([X_test_final.iloc[i].values]))\n"
   ]
  },
  {
   "cell_type": "code",
   "execution_count": 41,
   "id": "653ba173-5b0f-45f9-a69e-07117d8ccce5",
   "metadata": {},
   "outputs": [
    {
     "data": {
      "text/plain": [
       "0       6.194001\n",
       "1       8.264763\n",
       "2       8.644678\n",
       "3      10.440467\n",
       "4       8.546643\n",
       "         ...    \n",
       "126    11.297710\n",
       "127    15.654319\n",
       "128    12.952776\n",
       "129    10.589719\n",
       "130    11.918108\n",
       "Name: G3, Length: 131, dtype: float64"
      ]
     },
     "execution_count": 41,
     "metadata": {},
     "output_type": "execute_result"
    }
   ],
   "source": [
    "y_test_pred"
   ]
  },
  {
   "cell_type": "code",
   "execution_count": null,
   "id": "dcf6d4f2-aa87-4b52-b14f-28afef70fc81",
   "metadata": {},
   "outputs": [],
   "source": []
  },
  {
   "cell_type": "code",
   "execution_count": null,
   "id": "170cb222-3e8c-4c7a-a2cd-3aa4608a74d6",
   "metadata": {},
   "outputs": [],
   "source": []
  },
  {
   "cell_type": "code",
   "execution_count": null,
   "id": "5768e5ca-afec-4cc1-82f1-b10666949d7d",
   "metadata": {},
   "outputs": [],
   "source": []
  },
  {
   "cell_type": "code",
   "execution_count": null,
   "id": "6a6da80b-7e19-436a-b2cc-836d57fb7cca",
   "metadata": {},
   "outputs": [],
   "source": []
  }
 ],
 "metadata": {
  "kernelspec": {
   "display_name": "Python 3 (ipykernel)",
   "language": "python",
   "name": "python3"
  },
  "language_info": {
   "codemirror_mode": {
    "name": "ipython",
    "version": 3
   },
   "file_extension": ".py",
   "mimetype": "text/x-python",
   "name": "python",
   "nbconvert_exporter": "python",
   "pygments_lexer": "ipython3",
   "version": "3.9.12"
  }
 },
 "nbformat": 4,
 "nbformat_minor": 5
}
